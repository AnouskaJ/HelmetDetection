{
  "nbformat": 4,
  "nbformat_minor": 0,
  "metadata": {
    "colab": {
      "provenance": [],
      "authorship_tag": "ABX9TyOrspGG/QihMTIDbeKFfSS9",
      "include_colab_link": true
    },
    "kernelspec": {
      "name": "python3",
      "display_name": "Python 3"
    },
    "language_info": {
      "name": "python"
    }
  },
  "cells": [
    {
      "cell_type": "markdown",
      "metadata": {
        "id": "view-in-github",
        "colab_type": "text"
      },
      "source": [
        "<a href=\"https://colab.research.google.com/github/AnouskaJ/HelmetDetection/blob/main/HelmetDetection.ipynb\" target=\"_parent\"><img src=\"https://colab.research.google.com/assets/colab-badge.svg\" alt=\"Open In Colab\"/></a>"
      ]
    },
    {
      "cell_type": "code",
      "execution_count": 1,
      "metadata": {
        "id": "OA7ONaVdXonS"
      },
      "outputs": [],
      "source": [
        "\n",
        "import numpy as np\n",
        "import cv2\n",
        "import matplotlib.pyplot as plt\n",
        "import matplotlib.image as mpimg"
      ]
    },
    {
      "cell_type": "code",
      "source": [
        "img0 = \"../input/pic-detection/TEST1.jpg\"\n",
        "_ = plt.figure(figsize = (15,15))\n",
        "_ = plt.axis('off')\n",
        "_ = plt.imshow(mpimg.imread(img0))"
      ],
      "metadata": {
        "id": "9Bl86JI9aW2W"
      },
      "execution_count": null,
      "outputs": []
    }
  ]
}